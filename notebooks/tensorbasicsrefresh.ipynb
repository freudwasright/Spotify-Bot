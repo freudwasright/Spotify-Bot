{
 "cells": [
  {
   "cell_type": "code",
   "execution_count": null,
   "id": "f62b805c",
   "metadata": {},
   "outputs": [],
   "source": [
    "import torch\n",
    "import numpy as np\n",
    "from torch.utils.data import Dataset, DataLoader\n",
    "import pandas as pd\n",
    "import os\n",
    "from torchvision import transforms\n",
    "import cv2\n",
    "from PIL import Image"
   ]
  },
  {
   "cell_type": "code",
   "execution_count": null,
   "id": "11d54e1c",
   "metadata": {},
   "outputs": [],
   "source": [
    "class WineDataset(Dataset):\n",
    "    def __init__(self):\n",
    "        #dataloading\n",
    "        data = np.loadtxt('wine.csv', delimiter=',', dtype=np.float32, skiprows=1)\n",
    "        self.x = torch.from_numpy(data[:, 1:])\n",
    "        self.y = torch.from_numpy(data[:, [0]])\n",
    "        \n",
    "        self.n_samples = data.shape[0]\n",
    "        \n",
    "    def __getitem__(self, index):\n",
    "        # dataset indexing \n",
    "        return self.x[index], self.y[index]\n",
    "        \n",
    "    def __len__(self):\n",
    "        return self.n_samples"
   ]
  },
  {
   "cell_type": "code",
   "execution_count": null,
   "id": "ab1d1797",
   "metadata": {},
   "outputs": [],
   "source": [
    "class MusicDataset(Dataset):\n",
    "    def __init__(self, csv_path: str, root_dir: str, transform=None):\n",
    "        # dataloading\n",
    "        meta_data = pd.read_csv(csv_path)\n",
    "        song_file_names = get_image_files(root_dir)\n",
    "\n",
    "        self.n_samples = meta_data.shape[0]\n",
    "        self.transform = transform\n",
    "        self.labels = get_labels(meta_data, column_name='label')\n",
    "        self.data = load_data(song_file_names, transform)\n",
    "        print(self.data.shape)\n",
    "        \n",
    "    def __getitem__(self, index):\n",
    "        # dataset indexing\n",
    "        return self.data[index], self.labels[index]\n",
    "        \n",
    "    def __len__(self):\n",
    "        # get length of dataset\n",
    "        return self.n_samples\n",
    "        "
   ]
  },
  {
   "cell_type": "code",
   "execution_count": null,
   "id": "2575d38c",
   "metadata": {},
   "outputs": [],
   "source": [
    "preprocessing = transforms.Compose([\n",
    "    transforms.ToTensor(), # converts (H W C) uint8 to (C W H) float32 [0-1]\n",
    "    transforms.Normalize((0.5124, 0.4420, 0.4994), (0.4354, 0.4721, 0.4593))\n",
    "])"
   ]
  },
  {
   "cell_type": "code",
   "execution_count": null,
   "id": "47202566",
   "metadata": {},
   "outputs": [],
   "source": [
    "dataset = MusicDataset('d:/Data/features_30_sec.csv', 'd:/Data/images_original', transform=preprocessing)"
   ]
  },
  {
   "cell_type": "code",
   "execution_count": null,
   "id": "ac6fd663",
   "metadata": {},
   "outputs": [],
   "source": [
    "a, b = dataset[0]"
   ]
  },
  {
   "cell_type": "code",
   "execution_count": null,
   "id": "b4bab91c",
   "metadata": {},
   "outputs": [],
   "source": [
    "def get_labels(df, column_name: str):\n",
    "    labels = df[column_name]\n",
    "    labels_to_id = labels.apply(list(labels.unique()).index)\n",
    "    labels_reshaped = np.reshape(np.array(labels_to_id), (labels.shape[0], 1)).astype('float32')\n",
    "    tensor_labels = torch.tensor(labels_reshaped)\n",
    "    return tensor_labels\n",
    "    \n",
    "import os\n",
    "def get_image_files(rootdir: str) -> list:\n",
    "    #rootdir = 'd:/Data/images_original'\n",
    "    image_file_locations = []\n",
    "    for subdir, dirs, files in os.walk(rootdir):\n",
    "        for file in files:\n",
    "            #print os.path.join(subdir, file)\n",
    "            filepath = subdir + os.sep + file\n",
    "\n",
    "            if filepath.endswith(\".png\"):\n",
    "                image_file_locations.append(filepath)\n",
    "    return image_file_locations"
   ]
  },
  {
   "cell_type": "code",
   "execution_count": null,
   "id": "ce6cd8cc",
   "metadata": {
    "scrolled": true
   },
   "outputs": [],
   "source": [
    "def load_data(image_file_locations: list, transform=None):\n",
    "    #  [batch_size, channels, height, width].\n",
    "    images = []\n",
    "    for image_file in image_file_locations:\n",
    "        current_img = cv2.imread(image_file).astype('uint8')\n",
    "        if transform is not None:\n",
    "            # transform/preprocess image\n",
    "            current_img = transform(current_img)\n",
    "        else:\n",
    "            current_img = torch.from_numpy(current_img)\n",
    "        #transposed_img = torch.einsum('ijk->kij', current_img)\n",
    "        images.append(current_img)\n",
    "    print(images[0].shape)\n",
    "    data = torch.stack(images, dim=0)\n",
    "    return data"
   ]
  },
  {
   "cell_type": "code",
   "execution_count": null,
   "id": "65319775",
   "metadata": {},
   "outputs": [],
   "source": [
    "a.view(3, -1).mean(dim=1)/255.0, a.view(3, -1).std(dim=1)/255.0"
   ]
  }
 ],
 "metadata": {
  "kernelspec": {
   "display_name": "Python 3",
   "language": "python",
   "name": "python3"
  },
  "language_info": {
   "codemirror_mode": {
    "name": "ipython",
    "version": 3
   },
   "file_extension": ".py",
   "mimetype": "text/x-python",
   "name": "python",
   "nbconvert_exporter": "python",
   "pygments_lexer": "ipython3",
   "version": "3.8.10"
  }
 },
 "nbformat": 4,
 "nbformat_minor": 5
}
